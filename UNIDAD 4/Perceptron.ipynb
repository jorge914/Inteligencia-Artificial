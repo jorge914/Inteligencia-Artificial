{
  "nbformat": 4,
  "nbformat_minor": 0,
  "metadata": {
    "colab": {
      "provenance": []
    },
    "kernelspec": {
      "name": "python3",
      "display_name": "Python 3"
    },
    "language_info": {
      "name": "python"
    }
  },
  "cells": [
    {
      "cell_type": "code",
      "execution_count": 25,
      "metadata": {
        "colab": {
          "base_uri": "https://localhost:8080/"
        },
        "id": "0mNBT-blDmA2",
        "outputId": "39db76aa-e302-4486-f6f1-5acd1e2d8866"
      },
      "outputs": [
        {
          "output_type": "stream",
          "name": "stdout",
          "text": [
            "1\n"
          ]
        }
      ],
      "source": [
        "import numpy as np\n",
        "\n",
        "class Perceptron:\n",
        "    def __init__(self, num_inputs):\n",
        "        self.weights = np.zeros(num_inputs + 1)  # Inicializa los pesos a cero\n",
        "       \n",
        "    def predict(self, inputs):\n",
        "        summation = np.dot(inputs, self.weights[1:]) + self.weights[0]  # Calcula la suma ponderada\n",
        "        if summation >= 0:\n",
        "            activation = 1  # Aplica la función de activación (por ejemplo, función escalón)\n",
        "        else:\n",
        "            activation = 0\n",
        "        return activation\n",
        "    \n",
        "    def train(self, training_inputs, labels, learning_rate, num_epochs):\n",
        "        for _ in range(num_epochs):\n",
        "            for inputs, label in zip(training_inputs, labels):\n",
        "                prediction = self.predict(inputs)\n",
        "                self.weights[1:] += learning_rate * (label - prediction) * inputs  # Actualiza los pesos\n",
        "                self.weights[0] += learning_rate * (label - prediction)  # Actualiza el sesgo\n",
        "\n",
        "# Ejemplo de uso\n",
        "training_inputs = np.array([[0, 0], [0, 1], [1, 0], [1, 1]])  # Entradas de entrenamiento\n",
        "labels = np.array([0, 0, 0, 1])  # Etiquetas correspondientes a las entradas\n",
        "\n",
        "perceptron = Perceptron(num_inputs=2)  # Crea una instancia del perceptrón\n",
        "perceptron.train(training_inputs, labels, learning_rate=0.1, num_epochs=10)  # Entrena el perceptrón\n",
        "\n",
        "# Prueba el perceptrón con nuevas entradas\n",
        "new_inputs = np.array([1, 1])\n",
        "print(perceptron.predict(new_inputs))  # Imprime la salida del perceptrón\n"
      ]
    }
  ]
}